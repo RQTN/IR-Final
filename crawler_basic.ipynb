{
 "cells": [
  {
   "cell_type": "markdown",
   "metadata": {},
   "source": [
    "## 获取基本特征\n",
    "收集 Nike 的 10000 个 followers 的基本信息：\n",
    "`id`、`name`、`screen_name`、`location`、`statuses_count`、`friends_count` 和 `followers_count`。"
   ]
  },
  {
   "cell_type": "code",
   "execution_count": 9,
   "metadata": {},
   "outputs": [],
   "source": [
    "import tweepy\n",
    "import csv\n",
    "import pandas as pd\n",
    "import time\n",
    "\n",
    "consumer_key = ''\n",
    "consumer_secret = ''\n",
    "access_token = ''\n",
    "access_token_secret = ''\n",
    "\n",
    "# Twitter 要求所有 request 使用 OAuth 进行身份验证\n",
    "auth = tweepy.OAuthHandler(consumer_key, consumer_secret)\n",
    "auth.set_access_token(access_token, access_token_secret)\n",
    "\n",
    "# 构建 API 实例：wait_on_rate_limit=True（速度限制）\n",
    "api = tweepy.API(auth, wait_on_rate_limit=True)"
   ]
  },
  {
   "cell_type": "markdown",
   "metadata": {},
   "source": [
    "将基本特征写入到 `basic_feas.csv` 中"
   ]
  },
  {
   "cell_type": "code",
   "execution_count": 4,
   "metadata": {},
   "outputs": [
    {
     "name": "stdout",
     "output_type": "stream",
     "text": [
      "Log in √\n",
      "1  2  3  4  5  6  7  8  9  10  "
     ]
    }
   ],
   "source": [
    "# 使用 csv 进行 csv 文件的写入\n",
    "with open('basic_feas.csv', 'w', encoding='utf-8', newline='') as f:\n",
    "    \n",
    "    if (api.verify_credentials):\n",
    "        print('Log in √')\n",
    "        user = tweepy.Cursor(api.followers, screen_name='Nike', count=200).items()\n",
    "        \n",
    "    writer = csv.writer(f)\n",
    "    writer.writerow(['id', 'name', 'screen_name', 'location', 'statuses_count', 'friends_count', 'followers_count'])\n",
    "    \n",
    "    cnt = 0\n",
    "    while cnt < 10000:\n",
    "        try:\n",
    "            u = next(user)\n",
    "            writer.writerow([u.id, u.name, u.screen_name, u.location, u.statuses_count, u.friends_count, u.followers_count])\n",
    "            cnt += 1\n",
    "            print(cnt, end='  ')\n",
    "        except Exception as e:\n",
    "            # 主要防止翻墙使用 tweepy 而发生错误\n",
    "            # 已经设置了 wait_on_rate_limit，故不会捕捉到 timeout 错误\n",
    "            print(e)\n",
    "            time.sleep(5)"
   ]
  },
  {
   "cell_type": "code",
   "execution_count": 8,
   "metadata": {},
   "outputs": [],
   "source": [
    "# 作废\n",
    "# 获取 followers 对 influencers（共 12 个）的关注情况\n",
    "\n",
    "# u_TaylorSwift = api.get_user(screen_name='taylorswift13')\n",
    "# u_ESPN = api.get_user(screen_name='espn')\n",
    "# u_BillGates = api.get_user(screen_name='BillGates')\n",
    "# u_YouTube = api.get_user(screen_name='YouTube')\n",
    "# u_CNN = api.get_user(screen_name='CNN')\n",
    "# u_BarackObama = api.get_user(screen_name='BarackObama')\n",
    "# u_KimKardashian = api.get_user(screen_name='KimKardashian')\n",
    "# u_CristianoRonaldo = api.get_user(screen_name='Cristiano')\n",
    "# u_JimmyFallon = api.get_user(screen_name='jimmyfallon')\n",
    "# u_OprahWinfrey = api.get_user(screen_name='Oprah')\n",
    "# u_LilWayne = api.get_user(screen_name='LilTunechi')\n",
    "# u_NASA = api.get_user(screen_name='NASA')\n",
    "\n",
    "# def isAfollowingB(A, B):\n",
    "#     # 查看是否 A follow 了 B\n",
    "#     status = api.show_friendship(source_screen_name=A.screen_name, target_screen_name=B.screen_name)\n",
    "#     return 1 if status[0].following else 0\n",
    "\n",
    "# def get_influencers_info(user):\n",
    "    \n",
    "#     if user.friends_count > 1000:\n",
    "#         u_TaylorSwift_following = isAfollowingB(user, u_TaylorSwift)\n",
    "#         u_ESPN_following = isAfollowingB(user, u_ESPN)\n",
    "#         u_BillGates_following = isAfollowingB(user, u_BillGates)\n",
    "#         u_YouTube_following = isAfollowingB(user, u_YouTube)\n",
    "#         u_CNN_following = isAfollowingB(user, u_CNN)\n",
    "#         u_BarackObama_following = isAfollowingB(user, u_BarackObama)\n",
    "#         u_KimKardashian_following = isAfollowingB(user, u_KimKardashian)\n",
    "#         u_CristianoRonaldo_following = isAfollowingB(user, u_CristianoRonaldo)\n",
    "#         u_JimmyFallon_following = isAfollowingB(user, u_JimmyFallon)\n",
    "#         u_OprahWinfrey_following = isAfollowingB(user, u_OprahWinfrey)\n",
    "#         u_LilWayne_following = isAfollowingB(user, u_LilWayne)\n",
    "#         u_NASA_following = isAfollowingB(user, u_NASA)\n",
    "        \n",
    "#         return [ u_TaylorSwift_following, u_ESPN_following, u_BillGates_following, u_YouTube_following, \n",
    "#             u_CNN_following, u_BarackObama_following, u_KimKardashian_following, u_CristianoRonaldo_following, \n",
    "#             u_JimmyFallon_following, u_OprahWinfrey_following, u_LilWayne_following, u_NASA_following ]\n",
    "    \n",
    "#     else:\n",
    "#         f_list = []\n",
    "#         f_list = []\n",
    "#         for friend in tweepy.Cursor(api.friends, screen_name=user.screen_name, count=200).items():\n",
    "#             f_list.append(friend.screen_name)\n",
    "\n",
    "#         u_TaylorSwift_following = 1 if u_TaylorSwift.screen_name in f_list else 0\n",
    "#         u_ESPN_following = 1 if u_ESPN.screen_name in f_list else 0\n",
    "#         u_BillGates_following = 1 if u_BillGates.screen_name in f_list else 0\n",
    "#         u_YouTube_following = 1 if u_YouTube.screen_name in f_list else 0\n",
    "#         u_CNN_following = 1 if u_CNN.screen_name in f_list else 0\n",
    "#         u_BarackObama_following = 1 if u_BarackObama.screen_name in f_list else 0\n",
    "#         u_KimKardashian_following = 1 if u_KimKardashian.screen_name in f_list else 0\n",
    "#         u_CristianoRonaldo_following = 1 if u_CristianoRonaldo.screen_name in f_list else 0\n",
    "#         u_JimmyFallon_following = 1 if u_JimmyFallon.screen_name in f_list else 0\n",
    "#         u_OprahWinfrey_following = 1 if u_OprahWinfrey.screen_name in f_list else 0\n",
    "#         u_LilWayne_following = 1 if u_LilWayne.screen_name in f_list else 0\n",
    "#         u_NASA_following = 1 if u_NASA.screen_name in f_list else 0\n",
    "\n",
    "#         return [ u_TaylorSwift_following, u_ESPN_following, u_BillGates_following, u_YouTube_following, \n",
    "#                 u_CNN_following, u_BarackObama_following, u_KimKardashian_following, u_CristianoRonaldo_following, \n",
    "#                 u_JimmyFallon_following, u_OprahWinfrey_following, u_LilWayne_following, u_NASA_following ]"
   ]
  }
 ],
 "metadata": {
  "kernelspec": {
   "display_name": "Python 3",
   "language": "python",
   "name": "python3"
  },
  "language_info": {
   "codemirror_mode": {
    "name": "ipython",
    "version": 3
   },
   "file_extension": ".py",
   "mimetype": "text/x-python",
   "name": "python",
   "nbconvert_exporter": "python",
   "pygments_lexer": "ipython3",
   "version": "3.6.8"
  },
  "toc": {
   "base_numbering": 1,
   "nav_menu": {},
   "number_sections": true,
   "sideBar": true,
   "skip_h1_title": false,
   "title_cell": "Table of Contents",
   "title_sidebar": "Contents",
   "toc_cell": false,
   "toc_position": {},
   "toc_section_display": true,
   "toc_window_display": true
  }
 },
 "nbformat": 4,
 "nbformat_minor": 2
}
